{
 "cells": [
  {
   "cell_type": "markdown",
   "metadata": {},
   "source": [
    "# python 时间与日期"
   ]
  },
  {
   "cell_type": "markdown",
   "metadata": {},
   "source": [
    "python 中时间的库有：datetime time Calendar"
   ]
  },
  {
   "cell_type": "markdown",
   "metadata": {},
   "source": [
    "%a 星期的简写。星期一 ： Mon  \n",
    "%A 星期的全写。星期一 ：Monday  \n",
    "%b 月份的简写。一月：Jan  \n",
    "%B 月份的全写。一月：January  \n",
    "%c 日期时间的字符串表示。'Mon Jan 14 00:00:00 2019'  \n",
    "%d 日在这个月中的天数（这个月的第几天）  \n",
    "%f 微秒  \n",
    "%H 24小时制  \n",
    "%h 12小时制  \n",
    "%j 日在年中的天数[001,366]  \n",
    "%m 月份[01,12]  \n",
    "%M 分钟[00,59]  \n",
    "%p AM 或者 PM  \n",
    "%S 秒[00,61]  \n",
    "%U 在当年的第几周，星期天作为周的第一天  \n",
    "%w 今天在这周的第几天[0,6]，6表示星期天  \n",
    "%W 是当年的第几周，星期一作为周的第一天  \n",
    "%x 日期字符串  \n",
    "%X 时间字符串  \n",
    "%y 2个数字表示年份  \n",
    "%Y 4个数字表示年份  \n",
    "%z 与utc时间的间隔（如果是本地时间，返回空字符串）  \n",
    "%Z 时区名称（如果是本地时间，返回空字符串）  "
   ]
  },
  {
   "cell_type": "markdown",
   "metadata": {},
   "source": [
    "## time"
   ]
  },
  {
   "cell_type": "code",
   "execution_count": 1,
   "metadata": {},
   "outputs": [],
   "source": [
    "import time"
   ]
  },
  {
   "cell_type": "code",
   "execution_count": 5,
   "metadata": {},
   "outputs": [
    {
     "name": "stdout",
     "output_type": "stream",
     "text": [
      "2021-06-08 15:21:02\n",
      "1623136862.034063\n",
      "time.struct_time(tm_year=2021, tm_mon=6, tm_mday=8, tm_hour=15, tm_min=21, tm_sec=2, tm_wday=1, tm_yday=159, tm_isdst=0)\n"
     ]
    }
   ],
   "source": [
    "# 获取日期字符串\n",
    "print(time.strftime('%Y-%m-%d %H:%M:%S')) # 今日\n",
    "print(time.strftime('%Y-%m-01')) # 月初\n",
    "# 其他格式类型\n",
    "print(time.time()) # 时间戳\n",
    "print(time.localtime(time.time())) # time格式"
   ]
  },
  {
   "cell_type": "markdown",
   "metadata": {},
   "source": [
    "## datetime"
   ]
  },
  {
   "cell_type": "code",
   "execution_count": 6,
   "metadata": {},
   "outputs": [],
   "source": [
    "import datetime"
   ]
  },
  {
   "cell_type": "code",
   "execution_count": 25,
   "metadata": {},
   "outputs": [
    {
     "name": "stdout",
     "output_type": "stream",
     "text": [
      "2021-06-08 15:48:19.438862\n",
      "2021-06-08\n",
      "昨天 2021-06-07\n",
      "明天 2021-06-09\n",
      "2\n",
      "2021-09-02\n"
     ]
    }
   ],
   "source": [
    "# 今天\n",
    "print(datetime.datetime.now())# datetime日期格式\n",
    "print(datetime.datetime.now().strftime(\"%Y-%m-%d\")) # 字符串\n",
    "# 前后几天\n",
    "delta = datetime.timedelta(days=1)\n",
    "now = datetime.datetime.now()\n",
    "yesterday = now-delta\n",
    "tomorrow = now+delta\n",
    "print(\"昨天\",yesterday.strftime(\"%Y-%m-%d\"))\n",
    "print(\"明天\",tomorrow.strftime(\"%Y-%m-%d\"))\n",
    "# 日期差\n",
    "print((tomorrow-yesterday).days) # 用datetime格式相减"
   ]
  },
  {
   "cell_type": "code",
   "execution_count": 50,
   "metadata": {},
   "outputs": [
    {
     "name": "stdout",
     "output_type": "stream",
     "text": [
      "今天 2021-06-08\n",
      "昨天 2021-06-07 00:00:00\n",
      "明天 2021-06-09 00:00:00\n",
      "本周初 2021-06-07 00:00:00\n",
      "本周末 2021-06-13 00:00:00\n",
      "月初 2021-06-01 00:00:00\n",
      "月末 2021-06-30 00:00:00\n",
      "季初 2021-04-01 00:00:00\n",
      "季末 2021-06-30 00:00:00\n",
      "年初 2021-01-01 00:00:00\n",
      "年末 2021-12-31 00:00:00\n"
     ]
    }
   ],
   "source": [
    "# 特殊日期\n",
    "now = datetime.datetime.now() # 设置今日\n",
    "print(\"今天\",now.strftime(\"%Y-%m-%d\"))\n",
    "print(\"昨天\",datetime.datetime(now.year, now.month, now.day-1))\n",
    "print(\"明天\",datetime.datetime(now.year, now.month, now.day+1))\n",
    "print(\"本周初\",datetime.datetime(now.year, now.month, now.day-now.weekday()))\n",
    "print(\"本周末\",datetime.datetime(now.year, now.month, now.day+6-now.weekday()))\n",
    "print(\"月初\",datetime.datetime(now.year, now.month, 1))\n",
    "print(\"月末\",datetime.datetime(now.year, now.month+1, 1)-datetime.timedelta(days=1))\n",
    "print(\"季初\",datetime.datetime(now.year, now.month-(now.month+2)%3, 1))\n",
    "print(\"季末\",datetime.datetime(now.year, now.month-(now.month+2)%3+3, 1)-datetime.timedelta(days=1))\n",
    "print(\"年初\",datetime.datetime(now.year, 1, 1))\n",
    "print(\"年末\",datetime.datetime(now.year, 12, 31))"
   ]
  },
  {
   "cell_type": "code",
   "execution_count": 55,
   "metadata": {},
   "outputs": [
    {
     "name": "stdout",
     "output_type": "stream",
     "text": [
      "2021-06-08\n",
      "2021-06-08\n"
     ]
    },
    {
     "data": {
      "text/plain": [
       "datetime.datetime(2021, 9, 2, 0, 0)"
      ]
     },
     "execution_count": 55,
     "metadata": {},
     "output_type": "execute_result"
    }
   ],
   "source": [
    "# 格式转换\n",
    "now = datetime.datetime.now()# datetime格式\n",
    "print(now.date())# date格式\n",
    "print(now.strftime(\"%Y-%m-%d\")) # 字符串格式\n",
    "datetime.datetime.strptime('2021-09-02', '%Y-%m-%d') # 字符串转datetime"
   ]
  },
  {
   "cell_type": "code",
   "execution_count": null,
   "metadata": {},
   "outputs": [],
   "source": [
    "# 判断pd里空值\n",
    "pd.isnull(),\n",
    "pd.notnull()"
   ]
  }
 ],
 "metadata": {
  "kernelspec": {
   "display_name": "Python 3.6.12 64-bit ('base': conda)",
   "name": "python3612jvsc74a57bd0987a0df0389022d5494c989c92423562e24f1980fa5d780af7884b17818750b7"
  },
  "language_info": {
   "codemirror_mode": {
    "name": "ipython",
    "version": 3
   },
   "file_extension": ".py",
   "mimetype": "text/x-python",
   "name": "python",
   "nbconvert_exporter": "python",
   "pygments_lexer": "ipython3",
   "version": "3.6.12"
  },
  "orig_nbformat": 2
 },
 "nbformat": 4,
 "nbformat_minor": 2
}
